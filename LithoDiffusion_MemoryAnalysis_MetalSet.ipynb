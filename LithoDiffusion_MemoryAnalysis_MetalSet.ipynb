{
  "cells": [
    {
      "cell_type": "markdown",
      "metadata": {
        "id": "view-in-github",
        "colab_type": "text"
      },
      "source": [
        "<a href=\"https://colab.research.google.com/github/changeden/289A-Unsupervised-Learning/blob/main/LithoDiffusion_MemoryAnalysis_MetalSet.ipynb\" target=\"_parent\"><img src=\"https://colab.research.google.com/assets/colab-badge.svg\" alt=\"Open In Colab\"/></a>"
      ]
    },
    {
      "cell_type": "markdown",
      "id": "29cbb05a",
      "metadata": {
        "id": "29cbb05a"
      },
      "source": [
        "# LithoDiffusion with Shape-Focused Training & Memory Analysis\n",
        "\n",
        "This notebook includes:\n",
        "1. Training a DDPM model on MetalSet dataset with deeper U-Net, L1 loss, and no entropy regularization (5 epochs).\n",
        "2. Generating samples using the trained model.\n",
        "3. SSIM & Entropy-based memorization analysis."
      ]
    },
    {
      "cell_type": "code",
      "execution_count": null,
      "id": "de2b02e4",
      "metadata": {
        "id": "de2b02e4",
        "colab": {
          "base_uri": "https://localhost:8080/"
        },
        "outputId": "58b55147-c77d-4996-dc8a-ff5d93cb15e0"
      },
      "outputs": [
        {
          "output_type": "stream",
          "name": "stdout",
          "text": [
            "\u001b[2K   \u001b[90m━━━━━━━━━━━━━━━━━━━━━━━━━━━━━━━━━━━━━━━━\u001b[0m \u001b[32m363.4/363.4 MB\u001b[0m \u001b[31m4.5 MB/s\u001b[0m eta \u001b[36m0:00:00\u001b[0m\n",
            "\u001b[2K   \u001b[90m━━━━━━━━━━━━━━━━━━━━━━━━━━━━━━━━━━━━━━━━\u001b[0m \u001b[32m13.8/13.8 MB\u001b[0m \u001b[31m82.0 MB/s\u001b[0m eta \u001b[36m0:00:00\u001b[0m\n",
            "\u001b[2K   \u001b[90m━━━━━━━━━━━━━━━━━━━━━━━━━━━━━━━━━━━━━━━━\u001b[0m \u001b[32m24.6/24.6 MB\u001b[0m \u001b[31m63.0 MB/s\u001b[0m eta \u001b[36m0:00:00\u001b[0m\n",
            "\u001b[2K   \u001b[90m━━━━━━━━━━━━━━━━━━━━━━━━━━━━━━━━━━━━━━━━\u001b[0m \u001b[32m883.7/883.7 kB\u001b[0m \u001b[31m34.9 MB/s\u001b[0m eta \u001b[36m0:00:00\u001b[0m\n",
            "\u001b[2K   \u001b[90m━━━━━━━━━━━━━━━━━━━━━━━━━━━━━━━━━━━━━━━━\u001b[0m \u001b[32m664.8/664.8 MB\u001b[0m \u001b[31m2.1 MB/s\u001b[0m eta \u001b[36m0:00:00\u001b[0m\n",
            "\u001b[2K   \u001b[90m━━━━━━━━━━━━━━━━━━━━━━━━━━━━━━━━━━━━━━━━\u001b[0m \u001b[32m211.5/211.5 MB\u001b[0m \u001b[31m5.3 MB/s\u001b[0m eta \u001b[36m0:00:00\u001b[0m\n",
            "\u001b[2K   \u001b[90m━━━━━━━━━━━━━━━━━━━━━━━━━━━━━━━━━━━━━━━━\u001b[0m \u001b[32m56.3/56.3 MB\u001b[0m \u001b[31m12.8 MB/s\u001b[0m eta \u001b[36m0:00:00\u001b[0m\n",
            "\u001b[2K   \u001b[90m━━━━━━━━━━━━━━━━━━━━━━━━━━━━━━━━━━━━━━━━\u001b[0m \u001b[32m127.9/127.9 MB\u001b[0m \u001b[31m7.6 MB/s\u001b[0m eta \u001b[36m0:00:00\u001b[0m\n",
            "\u001b[2K   \u001b[90m━━━━━━━━━━━━━━━━━━━━━━━━━━━━━━━━━━━━━━━━\u001b[0m \u001b[32m207.5/207.5 MB\u001b[0m \u001b[31m5.2 MB/s\u001b[0m eta \u001b[36m0:00:00\u001b[0m\n",
            "\u001b[2K   \u001b[90m━━━━━━━━━━━━━━━━━━━━━━━━━━━━━━━━━━━━━━━━\u001b[0m \u001b[32m21.1/21.1 MB\u001b[0m \u001b[31m77.1 MB/s\u001b[0m eta \u001b[36m0:00:00\u001b[0m\n",
            "\u001b[?25h"
          ]
        }
      ],
      "source": [
        "# Install dependencies\n",
        "!pip install diffusers accelerate transformers einops scikit-image --quiet"
      ]
    },
    {
      "cell_type": "code",
      "execution_count": null,
      "id": "f88c7d52",
      "metadata": {
        "colab": {
          "base_uri": "https://localhost:8080/"
        },
        "id": "f88c7d52",
        "outputId": "350ac549-01d0-4ce8-f660-109292b512f1"
      },
      "outputs": [
        {
          "output_type": "stream",
          "name": "stdout",
          "text": [
            "✅ Using device: cuda\n"
          ]
        }
      ],
      "source": [
        "import torch, os, zipfile, shutil\n",
        "import numpy as np\n",
        "import matplotlib.pyplot as plt\n",
        "from torchvision import transforms\n",
        "from torchvision.datasets import ImageFolder\n",
        "from torch.utils.data import DataLoader\n",
        "from diffusers import UNet2DModel, DDPMScheduler\n",
        "from diffusers.models import AutoencoderKL\n",
        "from skimage.metrics import structural_similarity as ssim\n",
        "from skimage.color import rgb2gray\n",
        "from skimage.transform import resize\n",
        "\n",
        "device = 'cuda' if torch.cuda.is_available() else 'cpu'\n",
        "print('✅ Using device:', device)"
      ]
    },
    {
      "cell_type": "code",
      "execution_count": null,
      "id": "6b0c22b6",
      "metadata": {
        "colab": {
          "base_uri": "https://localhost:8080/"
        },
        "id": "6b0c22b6",
        "outputId": "bff1abc9-99ae-4d4a-bba2-e045f722b42b"
      },
      "outputs": [
        {
          "output_type": "stream",
          "name": "stdout",
          "text": [
            "Mounted at /content/drive\n"
          ]
        }
      ],
      "source": [
        "# Mount Google Drive\n",
        "from google.colab import drive\n",
        "drive.mount('/content/drive')"
      ]
    },
    {
      "cell_type": "code",
      "execution_count": null,
      "id": "aa965e1e",
      "metadata": {
        "id": "aa965e1e"
      },
      "outputs": [],
      "source": [
        "# Unzip MetalSet ZIP files\n",
        "with zipfile.ZipFile('/content/drive/MyDrive/Litho_dataset/MetalSet/target.zip','r') as z:\n",
        "    z.extractall('/content/target')\n",
        "with zipfile.ZipFile('/content/drive/MyDrive/Litho_dataset/MetalSet/printed.zip','r') as z:\n",
        "    z.extractall('/content/printed')"
      ]
    },
    {
      "cell_type": "code",
      "execution_count": null,
      "id": "5d7699cf",
      "metadata": {
        "id": "5d7699cf"
      },
      "outputs": [],
      "source": [
        "# Prepare data folders and copy images\n",
        "!mkdir -p /content/data/target /content/data/printed\n",
        "!cp /content/target/target/*.png /content/data/target/\n",
        "!cp /content/printed/printed/*.png /content/data/printed/"
      ]
    },
    {
      "cell_type": "code",
      "execution_count": null,
      "id": "313318b3",
      "metadata": {
        "colab": {
          "base_uri": "https://localhost:8080/"
        },
        "id": "313318b3",
        "outputId": "4b3e5870-2f73-4207-ea2e-91ce5a8e71e1"
      },
      "outputs": [
        {
          "output_type": "stream",
          "name": "stdout",
          "text": [
            "✅ Dataset loaded: 32894 images\n"
          ]
        }
      ],
      "source": [
        "# Load dataset\n",
        "transform = transforms.Compose([transforms.Resize((128, 128)), transforms.ToTensor()])\n",
        "dataset = ImageFolder(root='/content/data', transform=transform)\n",
        "dataloader = DataLoader(dataset, batch_size=16, shuffle=True, num_workers=2)\n",
        "print('✅ Dataset loaded:', len(dataset), 'images')"
      ]
    },
    {
      "cell_type": "code",
      "execution_count": null,
      "id": "8372b0f5",
      "metadata": {
        "colab": {
          "base_uri": "https://localhost:8080/",
          "height": 205,
          "referenced_widgets": [
            "9410f8d4d1724f67a93f3796e1dd7971",
            "de41f9530ca4424e9018b0081699bae2",
            "59a6aaafdeb14b09a2a38bbd25e5379d",
            "1d6f91d2189d4a4cb8cb5511aa838b0a",
            "0de8443398d6405a821abb7191e20c99",
            "0648101e48f74eb5bd34f90478f74c9d",
            "0ee02e7cae7b4922b3109e0be5e69534",
            "1a04e6d67a2449d79586487f93963481",
            "9e762e93cbfe469abb06a032098b7284",
            "2ad0773cbc1a4b6a8821fe089b033aa8",
            "ae74af72a0ba4df59426566a376b6db4",
            "c45f3db568b24b4cb9ffa1d72a670407",
            "b14658b96074499fb039157be0bcaa83",
            "ada16c528ffd45d69a852dd46eb0734d",
            "43f3dd78d0fa4fbb9d7d3ecd941a3cee",
            "c967c980526a415dbc54016a5d6685d3",
            "07583a2213754a13bc98bac94c20512b",
            "e5fcc0829fe34f1d88eefbc002ee8ed6",
            "0fca666401e24cb09f8deaebd41c5262",
            "70b8524ebaac4f928c12a7bb80ac4767",
            "d65225c80a3548aa81921ab800404a9e",
            "ec5c4d5b3f464e76bd57892069896657"
          ]
        },
        "id": "8372b0f5",
        "outputId": "61f725c0-b560-458a-ce02-a150ab583f17"
      },
      "outputs": [
        {
          "output_type": "stream",
          "name": "stderr",
          "text": [
            "/usr/local/lib/python3.11/dist-packages/huggingface_hub/utils/_auth.py:94: UserWarning: \n",
            "The secret `HF_TOKEN` does not exist in your Colab secrets.\n",
            "To authenticate with the Hugging Face Hub, create a token in your settings tab (https://huggingface.co/settings/tokens), set it as secret in your Google Colab and restart your session.\n",
            "You will be able to reuse this secret in all of your notebooks.\n",
            "Please note that authentication is recommended but still optional to access public models or datasets.\n",
            "  warnings.warn(\n"
          ]
        },
        {
          "output_type": "display_data",
          "data": {
            "text/plain": [
              "config.json:   0%|          | 0.00/547 [00:00<?, ?B/s]"
            ],
            "application/vnd.jupyter.widget-view+json": {
              "version_major": 2,
              "version_minor": 0,
              "model_id": "9410f8d4d1724f67a93f3796e1dd7971"
            }
          },
          "metadata": {}
        },
        {
          "output_type": "display_data",
          "data": {
            "text/plain": [
              "diffusion_pytorch_model.safetensors:   0%|          | 0.00/335M [00:00<?, ?B/s]"
            ],
            "application/vnd.jupyter.widget-view+json": {
              "version_major": 2,
              "version_minor": 0,
              "model_id": "c45f3db568b24b4cb9ffa1d72a670407"
            }
          },
          "metadata": {}
        }
      ],
      "source": [
        "# Load VQ-VAE & deeper UNet\n",
        "vqvae = AutoencoderKL.from_pretrained('stabilityai/sd-vae-ft-mse').to(device).eval()\n",
        "model = UNet2DModel(\n",
        "    sample_size=32,\n",
        "    in_channels=4,\n",
        "    out_channels=4,\n",
        "    layers_per_block=2,\n",
        "    block_out_channels=(256, 256, 512, 512),\n",
        "    down_block_types=('DownBlock2D','AttnDownBlock2D','AttnDownBlock2D','AttnDownBlock2D'),\n",
        "    up_block_types=('AttnUpBlock2D','AttnUpBlock2D','AttnUpBlock2D','UpBlock2D')\n",
        ").to(device)\n",
        "noise_scheduler = DDPMScheduler(num_train_timesteps=1000)"
      ]
    },
    {
      "cell_type": "code",
      "execution_count": null,
      "id": "36432f61",
      "metadata": {
        "colab": {
          "background_save": true,
          "base_uri": "https://localhost:8080/"
        },
        "id": "36432f61",
        "outputId": "851da480-652a-41f3-b54e-5e9c9999c946"
      },
      "outputs": [
        {
          "output_type": "stream",
          "name": "stdout",
          "text": [
            "Epoch 1/10 — Avg Loss: 0.1493\n",
            "Epoch 2/10 — Avg Loss: 0.1180\n"
          ]
        }
      ],
      "source": [
        "# Training loop with L1 reconstruction loss (5 epochs)\n",
        "import torch.nn.functional as F\n",
        "\n",
        "def compute_l1_reconstruction_loss(latents_noisy, pred_noise, original_images):\n",
        "    with torch.no_grad():\n",
        "        sigma = noise_scheduler.init_noise_sigma\n",
        "        latents_approx = (latents_noisy - pred_noise * sigma).detach()\n",
        "        recon = vqvae.decode(latents_approx).sample\n",
        "    return F.l1_loss(recon, original_images)\n",
        "\n",
        "optimizer = torch.optim.Adam(model.parameters(), lr=2e-4)\n",
        "epochs = 10\n",
        "for epoch in range(epochs):\n",
        "    total_loss = 0.0\n",
        "    for images, _ in dataloader:\n",
        "        images = images.to(device)\n",
        "        with torch.no_grad():\n",
        "            latents = vqvae.encode(images).latent_dist.mode()\n",
        "        noise = torch.randn_like(latents).to(device)\n",
        "        timesteps = torch.randint(0, 1000, (latents.size(0),), device=device).long()\n",
        "        noisy_latents = noise_scheduler.add_noise(latents, noise, timesteps)\n",
        "        pred_noise = model(noisy_latents, timesteps).sample\n",
        "        loss_mse = F.mse_loss(pred_noise, noise)\n",
        "        loss_l1 = compute_l1_reconstruction_loss(noisy_latents, pred_noise, images)\n",
        "        loss = loss_mse + 0.5 * loss_l1\n",
        "        optimizer.zero_grad()\n",
        "        loss.backward()\n",
        "        optimizer.step()\n",
        "        total_loss += loss.item()\n",
        "    print(f\"Epoch {epoch+1}/{epochs} — Avg Loss: {total_loss/len(dataloader):.4f}\")\n",
        "print(\"✅ Training finished.\")"
      ]
    },
    {
      "cell_type": "code",
      "execution_count": null,
      "id": "e6065a3d",
      "metadata": {
        "id": "e6065a3d"
      },
      "outputs": [],
      "source": [
        "# Generate samples (5 images)\n",
        "generated_images = []\n",
        "for _ in range(20):\n",
        "    latents = torch.randn((1, 4, 32, 32)).to(device)\n",
        "    for t in reversed(range(1000)):\n",
        "        timestep = torch.tensor([t], device=device).long()\n",
        "        with torch.no_grad():\n",
        "            noise_pred = model(latents, timestep).sample\n",
        "        latents = noise_scheduler.step(noise_pred, t, latents).prev_sample\n",
        "    with torch.no_grad():\n",
        "        recon = vqvae.decode(latents).sample\n",
        "    img = recon.squeeze().cpu().clamp(0,1).numpy()\n",
        "    generated_images.append(img)\n",
        "print(f\"✅ Generated {len(generated_images)} images.\")"
      ]
    },
    {
      "cell_type": "code",
      "execution_count": null,
      "id": "67acdb89",
      "metadata": {
        "id": "67acdb89"
      },
      "outputs": [],
      "source": [
        "# Load and preprocess printed training images (128x128)\n",
        "import glob\n",
        "from PIL import Image\n",
        "preprocess = transforms.Compose([\n",
        "    transforms.Grayscale(),\n",
        "    transforms.Resize((128,128)),\n",
        "    transforms.ToTensor()\n",
        "])\n",
        "printed_paths = glob.glob('/content/data/printed/*.png')\n",
        "train_images = []\n",
        "for p in printed_paths:\n",
        "    img = Image.open(p)\n",
        "    t = preprocess(img)\n",
        "    train_images.append(t.squeeze(0).numpy())\n",
        "print(f\"✅ Loaded {len(train_images)} training images.\")"
      ]
    },
    {
      "cell_type": "code",
      "execution_count": null,
      "id": "aa8ad7d9",
      "metadata": {
        "id": "aa8ad7d9"
      },
      "outputs": [],
      "source": [
        "# Define preprocess + memory analysis (SSIM + Entropy)\n",
        "import numpy as np\n",
        "from skimage.metrics import structural_similarity as ssim\n",
        "from skimage.color import rgb2gray\n",
        "from skimage.transform import resize\n",
        "\n",
        "def preprocess_image(img, shape=(128,128)):\n",
        "    if img.ndim == 3:\n",
        "        img = np.transpose(img, (1,2,0))\n",
        "        img = rgb2gray(img)\n",
        "    return resize(img, shape, anti_aliasing=True)\n",
        "\n",
        "ssim_scores, entropies, matches = [], [], []\n",
        "for gen in generated_images:\n",
        "    g = preprocess_image(gen)\n",
        "    best_ssim, best_match = 0.0, None\n",
        "    for tr in train_images:\n",
        "        t = tr if tr.shape == g.shape else resize(tr, g.shape, anti_aliasing=True)\n",
        "        sc = ssim(g, t, data_range=1.0)\n",
        "        if sc > best_ssim:\n",
        "            best_ssim, best_match = sc, t\n",
        "    ssim_scores.append(best_ssim)\n",
        "    matches.append(best_match)\n",
        "    h, _ = np.histogram(g, bins=256, range=(0,1), density=False)\n",
        "    p = h / np.sum(h)  # Normalize to get proper PMF\n",
        "    entropies.append(-np.sum(p * np.log2(p + 1e-10)))\n",
        "labels = ['memorized' if s > 0.98 else 'novel' for s in ssim_scores]"
      ]
    },
    {
      "cell_type": "code",
      "execution_count": null,
      "id": "85d2be10",
      "metadata": {
        "id": "85d2be10"
      },
      "outputs": [],
      "source": [
        "# Plot SSIM vs Entropy\n",
        "plt.figure(figsize=(6,4))\n",
        "colors = ['red' if l=='memorized' else 'blue' for l in labels]\n",
        "plt.scatter(ssim_scores, entropies, c=colors, alpha=0.7)\n",
        "plt.axvline(0.98, color='gray', linestyle='--', label='SSIM=0.98')\n",
        "plt.xlabel('SSIM vs Closest Training')\n",
        "plt.ylabel('Entropy')\n",
        "plt.title('Memory Analysis: SSIM vs Entropy')\n",
        "plt.legend()\n",
        "plt.grid(True)\n",
        "plt.show()"
      ]
    },
    {
      "cell_type": "code",
      "execution_count": null,
      "id": "1800bc0f",
      "metadata": {
        "id": "1800bc0f"
      },
      "outputs": [],
      "source": [
        "# Visualize pairs (first 5)\n",
        "def show_pair(gen, match, score, label):\n",
        "    fig, (ax1, ax2) = plt.subplots(1,2,figsize=(4,2))\n",
        "    ax1.imshow(preprocess_image(gen), cmap='gray')\n",
        "    ax1.set_title('Generated')\n",
        "    ax2.imshow(match, cmap='gray')\n",
        "    ax2.set_title(f\"{label}\\nSSIM={score:.3f}\")\n",
        "    for ax in (ax1, ax2): ax.axis('off')\n",
        "    plt.tight_layout()\n",
        "    plt.show()\n",
        "\n",
        "for i in range(len(generated_images) if len(generated_images)<20 else 20):\n",
        "    show_pair(generated_images[i], matches[i], ssim_scores[i], labels[i])"
      ]
    }
  ],
  "metadata": {
    "accelerator": "GPU",
    "colab": {
      "gpuType": "T4",
      "provenance": [],
      "include_colab_link": true
    },
    "kernelspec": {
      "display_name": "Python 3",
      "name": "python3"
    },
    "language_info": {
      "name": "python"
    },
    "widgets": {
      "application/vnd.jupyter.widget-state+json": {
        "9410f8d4d1724f67a93f3796e1dd7971": {
          "model_module": "@jupyter-widgets/controls",
          "model_name": "HBoxModel",
          "model_module_version": "1.5.0",
          "state": {
            "_dom_classes": [],
            "_model_module": "@jupyter-widgets/controls",
            "_model_module_version": "1.5.0",
            "_model_name": "HBoxModel",
            "_view_count": null,
            "_view_module": "@jupyter-widgets/controls",
            "_view_module_version": "1.5.0",
            "_view_name": "HBoxView",
            "box_style": "",
            "children": [
              "IPY_MODEL_de41f9530ca4424e9018b0081699bae2",
              "IPY_MODEL_59a6aaafdeb14b09a2a38bbd25e5379d",
              "IPY_MODEL_1d6f91d2189d4a4cb8cb5511aa838b0a"
            ],
            "layout": "IPY_MODEL_0de8443398d6405a821abb7191e20c99"
          }
        },
        "de41f9530ca4424e9018b0081699bae2": {
          "model_module": "@jupyter-widgets/controls",
          "model_name": "HTMLModel",
          "model_module_version": "1.5.0",
          "state": {
            "_dom_classes": [],
            "_model_module": "@jupyter-widgets/controls",
            "_model_module_version": "1.5.0",
            "_model_name": "HTMLModel",
            "_view_count": null,
            "_view_module": "@jupyter-widgets/controls",
            "_view_module_version": "1.5.0",
            "_view_name": "HTMLView",
            "description": "",
            "description_tooltip": null,
            "layout": "IPY_MODEL_0648101e48f74eb5bd34f90478f74c9d",
            "placeholder": "​",
            "style": "IPY_MODEL_0ee02e7cae7b4922b3109e0be5e69534",
            "value": "config.json: 100%"
          }
        },
        "59a6aaafdeb14b09a2a38bbd25e5379d": {
          "model_module": "@jupyter-widgets/controls",
          "model_name": "FloatProgressModel",
          "model_module_version": "1.5.0",
          "state": {
            "_dom_classes": [],
            "_model_module": "@jupyter-widgets/controls",
            "_model_module_version": "1.5.0",
            "_model_name": "FloatProgressModel",
            "_view_count": null,
            "_view_module": "@jupyter-widgets/controls",
            "_view_module_version": "1.5.0",
            "_view_name": "ProgressView",
            "bar_style": "success",
            "description": "",
            "description_tooltip": null,
            "layout": "IPY_MODEL_1a04e6d67a2449d79586487f93963481",
            "max": 547,
            "min": 0,
            "orientation": "horizontal",
            "style": "IPY_MODEL_9e762e93cbfe469abb06a032098b7284",
            "value": 547
          }
        },
        "1d6f91d2189d4a4cb8cb5511aa838b0a": {
          "model_module": "@jupyter-widgets/controls",
          "model_name": "HTMLModel",
          "model_module_version": "1.5.0",
          "state": {
            "_dom_classes": [],
            "_model_module": "@jupyter-widgets/controls",
            "_model_module_version": "1.5.0",
            "_model_name": "HTMLModel",
            "_view_count": null,
            "_view_module": "@jupyter-widgets/controls",
            "_view_module_version": "1.5.0",
            "_view_name": "HTMLView",
            "description": "",
            "description_tooltip": null,
            "layout": "IPY_MODEL_2ad0773cbc1a4b6a8821fe089b033aa8",
            "placeholder": "​",
            "style": "IPY_MODEL_ae74af72a0ba4df59426566a376b6db4",
            "value": " 547/547 [00:00&lt;00:00, 38.4kB/s]"
          }
        },
        "0de8443398d6405a821abb7191e20c99": {
          "model_module": "@jupyter-widgets/base",
          "model_name": "LayoutModel",
          "model_module_version": "1.2.0",
          "state": {
            "_model_module": "@jupyter-widgets/base",
            "_model_module_version": "1.2.0",
            "_model_name": "LayoutModel",
            "_view_count": null,
            "_view_module": "@jupyter-widgets/base",
            "_view_module_version": "1.2.0",
            "_view_name": "LayoutView",
            "align_content": null,
            "align_items": null,
            "align_self": null,
            "border": null,
            "bottom": null,
            "display": null,
            "flex": null,
            "flex_flow": null,
            "grid_area": null,
            "grid_auto_columns": null,
            "grid_auto_flow": null,
            "grid_auto_rows": null,
            "grid_column": null,
            "grid_gap": null,
            "grid_row": null,
            "grid_template_areas": null,
            "grid_template_columns": null,
            "grid_template_rows": null,
            "height": null,
            "justify_content": null,
            "justify_items": null,
            "left": null,
            "margin": null,
            "max_height": null,
            "max_width": null,
            "min_height": null,
            "min_width": null,
            "object_fit": null,
            "object_position": null,
            "order": null,
            "overflow": null,
            "overflow_x": null,
            "overflow_y": null,
            "padding": null,
            "right": null,
            "top": null,
            "visibility": null,
            "width": null
          }
        },
        "0648101e48f74eb5bd34f90478f74c9d": {
          "model_module": "@jupyter-widgets/base",
          "model_name": "LayoutModel",
          "model_module_version": "1.2.0",
          "state": {
            "_model_module": "@jupyter-widgets/base",
            "_model_module_version": "1.2.0",
            "_model_name": "LayoutModel",
            "_view_count": null,
            "_view_module": "@jupyter-widgets/base",
            "_view_module_version": "1.2.0",
            "_view_name": "LayoutView",
            "align_content": null,
            "align_items": null,
            "align_self": null,
            "border": null,
            "bottom": null,
            "display": null,
            "flex": null,
            "flex_flow": null,
            "grid_area": null,
            "grid_auto_columns": null,
            "grid_auto_flow": null,
            "grid_auto_rows": null,
            "grid_column": null,
            "grid_gap": null,
            "grid_row": null,
            "grid_template_areas": null,
            "grid_template_columns": null,
            "grid_template_rows": null,
            "height": null,
            "justify_content": null,
            "justify_items": null,
            "left": null,
            "margin": null,
            "max_height": null,
            "max_width": null,
            "min_height": null,
            "min_width": null,
            "object_fit": null,
            "object_position": null,
            "order": null,
            "overflow": null,
            "overflow_x": null,
            "overflow_y": null,
            "padding": null,
            "right": null,
            "top": null,
            "visibility": null,
            "width": null
          }
        },
        "0ee02e7cae7b4922b3109e0be5e69534": {
          "model_module": "@jupyter-widgets/controls",
          "model_name": "DescriptionStyleModel",
          "model_module_version": "1.5.0",
          "state": {
            "_model_module": "@jupyter-widgets/controls",
            "_model_module_version": "1.5.0",
            "_model_name": "DescriptionStyleModel",
            "_view_count": null,
            "_view_module": "@jupyter-widgets/base",
            "_view_module_version": "1.2.0",
            "_view_name": "StyleView",
            "description_width": ""
          }
        },
        "1a04e6d67a2449d79586487f93963481": {
          "model_module": "@jupyter-widgets/base",
          "model_name": "LayoutModel",
          "model_module_version": "1.2.0",
          "state": {
            "_model_module": "@jupyter-widgets/base",
            "_model_module_version": "1.2.0",
            "_model_name": "LayoutModel",
            "_view_count": null,
            "_view_module": "@jupyter-widgets/base",
            "_view_module_version": "1.2.0",
            "_view_name": "LayoutView",
            "align_content": null,
            "align_items": null,
            "align_self": null,
            "border": null,
            "bottom": null,
            "display": null,
            "flex": null,
            "flex_flow": null,
            "grid_area": null,
            "grid_auto_columns": null,
            "grid_auto_flow": null,
            "grid_auto_rows": null,
            "grid_column": null,
            "grid_gap": null,
            "grid_row": null,
            "grid_template_areas": null,
            "grid_template_columns": null,
            "grid_template_rows": null,
            "height": null,
            "justify_content": null,
            "justify_items": null,
            "left": null,
            "margin": null,
            "max_height": null,
            "max_width": null,
            "min_height": null,
            "min_width": null,
            "object_fit": null,
            "object_position": null,
            "order": null,
            "overflow": null,
            "overflow_x": null,
            "overflow_y": null,
            "padding": null,
            "right": null,
            "top": null,
            "visibility": null,
            "width": null
          }
        },
        "9e762e93cbfe469abb06a032098b7284": {
          "model_module": "@jupyter-widgets/controls",
          "model_name": "ProgressStyleModel",
          "model_module_version": "1.5.0",
          "state": {
            "_model_module": "@jupyter-widgets/controls",
            "_model_module_version": "1.5.0",
            "_model_name": "ProgressStyleModel",
            "_view_count": null,
            "_view_module": "@jupyter-widgets/base",
            "_view_module_version": "1.2.0",
            "_view_name": "StyleView",
            "bar_color": null,
            "description_width": ""
          }
        },
        "2ad0773cbc1a4b6a8821fe089b033aa8": {
          "model_module": "@jupyter-widgets/base",
          "model_name": "LayoutModel",
          "model_module_version": "1.2.0",
          "state": {
            "_model_module": "@jupyter-widgets/base",
            "_model_module_version": "1.2.0",
            "_model_name": "LayoutModel",
            "_view_count": null,
            "_view_module": "@jupyter-widgets/base",
            "_view_module_version": "1.2.0",
            "_view_name": "LayoutView",
            "align_content": null,
            "align_items": null,
            "align_self": null,
            "border": null,
            "bottom": null,
            "display": null,
            "flex": null,
            "flex_flow": null,
            "grid_area": null,
            "grid_auto_columns": null,
            "grid_auto_flow": null,
            "grid_auto_rows": null,
            "grid_column": null,
            "grid_gap": null,
            "grid_row": null,
            "grid_template_areas": null,
            "grid_template_columns": null,
            "grid_template_rows": null,
            "height": null,
            "justify_content": null,
            "justify_items": null,
            "left": null,
            "margin": null,
            "max_height": null,
            "max_width": null,
            "min_height": null,
            "min_width": null,
            "object_fit": null,
            "object_position": null,
            "order": null,
            "overflow": null,
            "overflow_x": null,
            "overflow_y": null,
            "padding": null,
            "right": null,
            "top": null,
            "visibility": null,
            "width": null
          }
        },
        "ae74af72a0ba4df59426566a376b6db4": {
          "model_module": "@jupyter-widgets/controls",
          "model_name": "DescriptionStyleModel",
          "model_module_version": "1.5.0",
          "state": {
            "_model_module": "@jupyter-widgets/controls",
            "_model_module_version": "1.5.0",
            "_model_name": "DescriptionStyleModel",
            "_view_count": null,
            "_view_module": "@jupyter-widgets/base",
            "_view_module_version": "1.2.0",
            "_view_name": "StyleView",
            "description_width": ""
          }
        },
        "c45f3db568b24b4cb9ffa1d72a670407": {
          "model_module": "@jupyter-widgets/controls",
          "model_name": "HBoxModel",
          "model_module_version": "1.5.0",
          "state": {
            "_dom_classes": [],
            "_model_module": "@jupyter-widgets/controls",
            "_model_module_version": "1.5.0",
            "_model_name": "HBoxModel",
            "_view_count": null,
            "_view_module": "@jupyter-widgets/controls",
            "_view_module_version": "1.5.0",
            "_view_name": "HBoxView",
            "box_style": "",
            "children": [
              "IPY_MODEL_b14658b96074499fb039157be0bcaa83",
              "IPY_MODEL_ada16c528ffd45d69a852dd46eb0734d",
              "IPY_MODEL_43f3dd78d0fa4fbb9d7d3ecd941a3cee"
            ],
            "layout": "IPY_MODEL_c967c980526a415dbc54016a5d6685d3"
          }
        },
        "b14658b96074499fb039157be0bcaa83": {
          "model_module": "@jupyter-widgets/controls",
          "model_name": "HTMLModel",
          "model_module_version": "1.5.0",
          "state": {
            "_dom_classes": [],
            "_model_module": "@jupyter-widgets/controls",
            "_model_module_version": "1.5.0",
            "_model_name": "HTMLModel",
            "_view_count": null,
            "_view_module": "@jupyter-widgets/controls",
            "_view_module_version": "1.5.0",
            "_view_name": "HTMLView",
            "description": "",
            "description_tooltip": null,
            "layout": "IPY_MODEL_07583a2213754a13bc98bac94c20512b",
            "placeholder": "​",
            "style": "IPY_MODEL_e5fcc0829fe34f1d88eefbc002ee8ed6",
            "value": "diffusion_pytorch_model.safetensors: 100%"
          }
        },
        "ada16c528ffd45d69a852dd46eb0734d": {
          "model_module": "@jupyter-widgets/controls",
          "model_name": "FloatProgressModel",
          "model_module_version": "1.5.0",
          "state": {
            "_dom_classes": [],
            "_model_module": "@jupyter-widgets/controls",
            "_model_module_version": "1.5.0",
            "_model_name": "FloatProgressModel",
            "_view_count": null,
            "_view_module": "@jupyter-widgets/controls",
            "_view_module_version": "1.5.0",
            "_view_name": "ProgressView",
            "bar_style": "success",
            "description": "",
            "description_tooltip": null,
            "layout": "IPY_MODEL_0fca666401e24cb09f8deaebd41c5262",
            "max": 334643276,
            "min": 0,
            "orientation": "horizontal",
            "style": "IPY_MODEL_70b8524ebaac4f928c12a7bb80ac4767",
            "value": 334643276
          }
        },
        "43f3dd78d0fa4fbb9d7d3ecd941a3cee": {
          "model_module": "@jupyter-widgets/controls",
          "model_name": "HTMLModel",
          "model_module_version": "1.5.0",
          "state": {
            "_dom_classes": [],
            "_model_module": "@jupyter-widgets/controls",
            "_model_module_version": "1.5.0",
            "_model_name": "HTMLModel",
            "_view_count": null,
            "_view_module": "@jupyter-widgets/controls",
            "_view_module_version": "1.5.0",
            "_view_name": "HTMLView",
            "description": "",
            "description_tooltip": null,
            "layout": "IPY_MODEL_d65225c80a3548aa81921ab800404a9e",
            "placeholder": "​",
            "style": "IPY_MODEL_ec5c4d5b3f464e76bd57892069896657",
            "value": " 335M/335M [00:01&lt;00:00, 228MB/s]"
          }
        },
        "c967c980526a415dbc54016a5d6685d3": {
          "model_module": "@jupyter-widgets/base",
          "model_name": "LayoutModel",
          "model_module_version": "1.2.0",
          "state": {
            "_model_module": "@jupyter-widgets/base",
            "_model_module_version": "1.2.0",
            "_model_name": "LayoutModel",
            "_view_count": null,
            "_view_module": "@jupyter-widgets/base",
            "_view_module_version": "1.2.0",
            "_view_name": "LayoutView",
            "align_content": null,
            "align_items": null,
            "align_self": null,
            "border": null,
            "bottom": null,
            "display": null,
            "flex": null,
            "flex_flow": null,
            "grid_area": null,
            "grid_auto_columns": null,
            "grid_auto_flow": null,
            "grid_auto_rows": null,
            "grid_column": null,
            "grid_gap": null,
            "grid_row": null,
            "grid_template_areas": null,
            "grid_template_columns": null,
            "grid_template_rows": null,
            "height": null,
            "justify_content": null,
            "justify_items": null,
            "left": null,
            "margin": null,
            "max_height": null,
            "max_width": null,
            "min_height": null,
            "min_width": null,
            "object_fit": null,
            "object_position": null,
            "order": null,
            "overflow": null,
            "overflow_x": null,
            "overflow_y": null,
            "padding": null,
            "right": null,
            "top": null,
            "visibility": null,
            "width": null
          }
        },
        "07583a2213754a13bc98bac94c20512b": {
          "model_module": "@jupyter-widgets/base",
          "model_name": "LayoutModel",
          "model_module_version": "1.2.0",
          "state": {
            "_model_module": "@jupyter-widgets/base",
            "_model_module_version": "1.2.0",
            "_model_name": "LayoutModel",
            "_view_count": null,
            "_view_module": "@jupyter-widgets/base",
            "_view_module_version": "1.2.0",
            "_view_name": "LayoutView",
            "align_content": null,
            "align_items": null,
            "align_self": null,
            "border": null,
            "bottom": null,
            "display": null,
            "flex": null,
            "flex_flow": null,
            "grid_area": null,
            "grid_auto_columns": null,
            "grid_auto_flow": null,
            "grid_auto_rows": null,
            "grid_column": null,
            "grid_gap": null,
            "grid_row": null,
            "grid_template_areas": null,
            "grid_template_columns": null,
            "grid_template_rows": null,
            "height": null,
            "justify_content": null,
            "justify_items": null,
            "left": null,
            "margin": null,
            "max_height": null,
            "max_width": null,
            "min_height": null,
            "min_width": null,
            "object_fit": null,
            "object_position": null,
            "order": null,
            "overflow": null,
            "overflow_x": null,
            "overflow_y": null,
            "padding": null,
            "right": null,
            "top": null,
            "visibility": null,
            "width": null
          }
        },
        "e5fcc0829fe34f1d88eefbc002ee8ed6": {
          "model_module": "@jupyter-widgets/controls",
          "model_name": "DescriptionStyleModel",
          "model_module_version": "1.5.0",
          "state": {
            "_model_module": "@jupyter-widgets/controls",
            "_model_module_version": "1.5.0",
            "_model_name": "DescriptionStyleModel",
            "_view_count": null,
            "_view_module": "@jupyter-widgets/base",
            "_view_module_version": "1.2.0",
            "_view_name": "StyleView",
            "description_width": ""
          }
        },
        "0fca666401e24cb09f8deaebd41c5262": {
          "model_module": "@jupyter-widgets/base",
          "model_name": "LayoutModel",
          "model_module_version": "1.2.0",
          "state": {
            "_model_module": "@jupyter-widgets/base",
            "_model_module_version": "1.2.0",
            "_model_name": "LayoutModel",
            "_view_count": null,
            "_view_module": "@jupyter-widgets/base",
            "_view_module_version": "1.2.0",
            "_view_name": "LayoutView",
            "align_content": null,
            "align_items": null,
            "align_self": null,
            "border": null,
            "bottom": null,
            "display": null,
            "flex": null,
            "flex_flow": null,
            "grid_area": null,
            "grid_auto_columns": null,
            "grid_auto_flow": null,
            "grid_auto_rows": null,
            "grid_column": null,
            "grid_gap": null,
            "grid_row": null,
            "grid_template_areas": null,
            "grid_template_columns": null,
            "grid_template_rows": null,
            "height": null,
            "justify_content": null,
            "justify_items": null,
            "left": null,
            "margin": null,
            "max_height": null,
            "max_width": null,
            "min_height": null,
            "min_width": null,
            "object_fit": null,
            "object_position": null,
            "order": null,
            "overflow": null,
            "overflow_x": null,
            "overflow_y": null,
            "padding": null,
            "right": null,
            "top": null,
            "visibility": null,
            "width": null
          }
        },
        "70b8524ebaac4f928c12a7bb80ac4767": {
          "model_module": "@jupyter-widgets/controls",
          "model_name": "ProgressStyleModel",
          "model_module_version": "1.5.0",
          "state": {
            "_model_module": "@jupyter-widgets/controls",
            "_model_module_version": "1.5.0",
            "_model_name": "ProgressStyleModel",
            "_view_count": null,
            "_view_module": "@jupyter-widgets/base",
            "_view_module_version": "1.2.0",
            "_view_name": "StyleView",
            "bar_color": null,
            "description_width": ""
          }
        },
        "d65225c80a3548aa81921ab800404a9e": {
          "model_module": "@jupyter-widgets/base",
          "model_name": "LayoutModel",
          "model_module_version": "1.2.0",
          "state": {
            "_model_module": "@jupyter-widgets/base",
            "_model_module_version": "1.2.0",
            "_model_name": "LayoutModel",
            "_view_count": null,
            "_view_module": "@jupyter-widgets/base",
            "_view_module_version": "1.2.0",
            "_view_name": "LayoutView",
            "align_content": null,
            "align_items": null,
            "align_self": null,
            "border": null,
            "bottom": null,
            "display": null,
            "flex": null,
            "flex_flow": null,
            "grid_area": null,
            "grid_auto_columns": null,
            "grid_auto_flow": null,
            "grid_auto_rows": null,
            "grid_column": null,
            "grid_gap": null,
            "grid_row": null,
            "grid_template_areas": null,
            "grid_template_columns": null,
            "grid_template_rows": null,
            "height": null,
            "justify_content": null,
            "justify_items": null,
            "left": null,
            "margin": null,
            "max_height": null,
            "max_width": null,
            "min_height": null,
            "min_width": null,
            "object_fit": null,
            "object_position": null,
            "order": null,
            "overflow": null,
            "overflow_x": null,
            "overflow_y": null,
            "padding": null,
            "right": null,
            "top": null,
            "visibility": null,
            "width": null
          }
        },
        "ec5c4d5b3f464e76bd57892069896657": {
          "model_module": "@jupyter-widgets/controls",
          "model_name": "DescriptionStyleModel",
          "model_module_version": "1.5.0",
          "state": {
            "_model_module": "@jupyter-widgets/controls",
            "_model_module_version": "1.5.0",
            "_model_name": "DescriptionStyleModel",
            "_view_count": null,
            "_view_module": "@jupyter-widgets/base",
            "_view_module_version": "1.2.0",
            "_view_name": "StyleView",
            "description_width": ""
          }
        }
      }
    }
  },
  "nbformat": 4,
  "nbformat_minor": 5
}